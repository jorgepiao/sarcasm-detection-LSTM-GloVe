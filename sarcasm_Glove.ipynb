{
  "cells": [
    {
      "cell_type": "code",
      "execution_count": 1,
      "metadata": {
        "id": "FRJRs9TP5SzS"
      },
      "outputs": [],
      "source": [
        "import pandas as pd\n",
        "import tensorflow as tf\n",
        "import numpy as np\n",
        "from tensorflow.keras.preprocessing.text import Tokenizer\n",
        "from tensorflow.keras.preprocessing.sequence import pad_sequences\n",
        "import matplotlib.pyplot as plt"
      ]
    },
    {
      "cell_type": "markdown",
      "metadata": {
        "id": "GgdsdzEw5SzY"
      },
      "source": [
        "# **Cargar Dataset**"
      ]
    },
    {
      "cell_type": "code",
      "execution_count": 2,
      "metadata": {
        "colab": {
          "base_uri": "https://localhost:8080/",
          "height": 206
        },
        "id": "BLGkeQnv5Sza",
        "outputId": "74496019-7824-4f23-b36f-9940e6b8a6f1"
      },
      "outputs": [
        {
          "data": {
            "text/html": [
              "\n",
              "  <div id=\"df-17459ea0-7aab-4041-b459-1382b46c2831\">\n",
              "    <div class=\"colab-df-container\">\n",
              "      <div>\n",
              "<style scoped>\n",
              "    .dataframe tbody tr th:only-of-type {\n",
              "        vertical-align: middle;\n",
              "    }\n",
              "\n",
              "    .dataframe tbody tr th {\n",
              "        vertical-align: top;\n",
              "    }\n",
              "\n",
              "    .dataframe thead th {\n",
              "        text-align: right;\n",
              "    }\n",
              "</style>\n",
              "<table border=\"1\" class=\"dataframe\">\n",
              "  <thead>\n",
              "    <tr style=\"text-align: right;\">\n",
              "      <th></th>\n",
              "      <th>is_sarcastic</th>\n",
              "      <th>headline</th>\n",
              "      <th>article_link</th>\n",
              "    </tr>\n",
              "  </thead>\n",
              "  <tbody>\n",
              "    <tr>\n",
              "      <th>0</th>\n",
              "      <td>1</td>\n",
              "      <td>thirtysomething scientists unveil doomsday clo...</td>\n",
              "      <td>https://www.theonion.com/thirtysomething-scien...</td>\n",
              "    </tr>\n",
              "    <tr>\n",
              "      <th>1</th>\n",
              "      <td>0</td>\n",
              "      <td>dem rep. totally nails why congress is falling...</td>\n",
              "      <td>https://www.huffingtonpost.com/entry/donna-edw...</td>\n",
              "    </tr>\n",
              "    <tr>\n",
              "      <th>2</th>\n",
              "      <td>0</td>\n",
              "      <td>eat your veggies: 9 deliciously different recipes</td>\n",
              "      <td>https://www.huffingtonpost.com/entry/eat-your-...</td>\n",
              "    </tr>\n",
              "    <tr>\n",
              "      <th>3</th>\n",
              "      <td>1</td>\n",
              "      <td>inclement weather prevents liar from getting t...</td>\n",
              "      <td>https://local.theonion.com/inclement-weather-p...</td>\n",
              "    </tr>\n",
              "    <tr>\n",
              "      <th>4</th>\n",
              "      <td>1</td>\n",
              "      <td>mother comes pretty close to using word 'strea...</td>\n",
              "      <td>https://www.theonion.com/mother-comes-pretty-c...</td>\n",
              "    </tr>\n",
              "  </tbody>\n",
              "</table>\n",
              "</div>\n",
              "      <button class=\"colab-df-convert\" onclick=\"convertToInteractive('df-17459ea0-7aab-4041-b459-1382b46c2831')\"\n",
              "              title=\"Convert this dataframe to an interactive table.\"\n",
              "              style=\"display:none;\">\n",
              "        \n",
              "  <svg xmlns=\"http://www.w3.org/2000/svg\" height=\"24px\"viewBox=\"0 0 24 24\"\n",
              "       width=\"24px\">\n",
              "    <path d=\"M0 0h24v24H0V0z\" fill=\"none\"/>\n",
              "    <path d=\"M18.56 5.44l.94 2.06.94-2.06 2.06-.94-2.06-.94-.94-2.06-.94 2.06-2.06.94zm-11 1L8.5 8.5l.94-2.06 2.06-.94-2.06-.94L8.5 2.5l-.94 2.06-2.06.94zm10 10l.94 2.06.94-2.06 2.06-.94-2.06-.94-.94-2.06-.94 2.06-2.06.94z\"/><path d=\"M17.41 7.96l-1.37-1.37c-.4-.4-.92-.59-1.43-.59-.52 0-1.04.2-1.43.59L10.3 9.45l-7.72 7.72c-.78.78-.78 2.05 0 2.83L4 21.41c.39.39.9.59 1.41.59.51 0 1.02-.2 1.41-.59l7.78-7.78 2.81-2.81c.8-.78.8-2.07 0-2.86zM5.41 20L4 18.59l7.72-7.72 1.47 1.35L5.41 20z\"/>\n",
              "  </svg>\n",
              "      </button>\n",
              "      \n",
              "  <style>\n",
              "    .colab-df-container {\n",
              "      display:flex;\n",
              "      flex-wrap:wrap;\n",
              "      gap: 12px;\n",
              "    }\n",
              "\n",
              "    .colab-df-convert {\n",
              "      background-color: #E8F0FE;\n",
              "      border: none;\n",
              "      border-radius: 50%;\n",
              "      cursor: pointer;\n",
              "      display: none;\n",
              "      fill: #1967D2;\n",
              "      height: 32px;\n",
              "      padding: 0 0 0 0;\n",
              "      width: 32px;\n",
              "    }\n",
              "\n",
              "    .colab-df-convert:hover {\n",
              "      background-color: #E2EBFA;\n",
              "      box-shadow: 0px 1px 2px rgba(60, 64, 67, 0.3), 0px 1px 3px 1px rgba(60, 64, 67, 0.15);\n",
              "      fill: #174EA6;\n",
              "    }\n",
              "\n",
              "    [theme=dark] .colab-df-convert {\n",
              "      background-color: #3B4455;\n",
              "      fill: #D2E3FC;\n",
              "    }\n",
              "\n",
              "    [theme=dark] .colab-df-convert:hover {\n",
              "      background-color: #434B5C;\n",
              "      box-shadow: 0px 1px 3px 1px rgba(0, 0, 0, 0.15);\n",
              "      filter: drop-shadow(0px 1px 2px rgba(0, 0, 0, 0.3));\n",
              "      fill: #FFFFFF;\n",
              "    }\n",
              "  </style>\n",
              "\n",
              "      <script>\n",
              "        const buttonEl =\n",
              "          document.querySelector('#df-17459ea0-7aab-4041-b459-1382b46c2831 button.colab-df-convert');\n",
              "        buttonEl.style.display =\n",
              "          google.colab.kernel.accessAllowed ? 'block' : 'none';\n",
              "\n",
              "        async function convertToInteractive(key) {\n",
              "          const element = document.querySelector('#df-17459ea0-7aab-4041-b459-1382b46c2831');\n",
              "          const dataTable =\n",
              "            await google.colab.kernel.invokeFunction('convertToInteractive',\n",
              "                                                     [key], {});\n",
              "          if (!dataTable) return;\n",
              "\n",
              "          const docLinkHtml = 'Like what you see? Visit the ' +\n",
              "            '<a target=\"_blank\" href=https://colab.research.google.com/notebooks/data_table.ipynb>data table notebook</a>'\n",
              "            + ' to learn more about interactive tables.';\n",
              "          element.innerHTML = '';\n",
              "          dataTable['output_type'] = 'display_data';\n",
              "          await google.colab.output.renderOutput(dataTable, element);\n",
              "          const docLink = document.createElement('div');\n",
              "          docLink.innerHTML = docLinkHtml;\n",
              "          element.appendChild(docLink);\n",
              "        }\n",
              "      </script>\n",
              "    </div>\n",
              "  </div>\n",
              "  "
            ],
            "text/plain": [
              "   is_sarcastic  ...                                       article_link\n",
              "0             1  ...  https://www.theonion.com/thirtysomething-scien...\n",
              "1             0  ...  https://www.huffingtonpost.com/entry/donna-edw...\n",
              "2             0  ...  https://www.huffingtonpost.com/entry/eat-your-...\n",
              "3             1  ...  https://local.theonion.com/inclement-weather-p...\n",
              "4             1  ...  https://www.theonion.com/mother-comes-pretty-c...\n",
              "\n",
              "[5 rows x 3 columns]"
            ]
          },
          "execution_count": 2,
          "metadata": {},
          "output_type": "execute_result"
        }
      ],
      "source": [
        "sarcasm_data = pd.read_json('dataset/Sarcasm_Headlines_Dataset_v2.json',lines=True)\n",
        "sarcasm_data.head()"
      ]
    },
    {
      "cell_type": "code",
      "execution_count": 3,
      "metadata": {
        "colab": {
          "base_uri": "https://localhost:8080/",
          "height": 206
        },
        "id": "S3nZLD2j5Sz5",
        "outputId": "73c1f31b-7d70-4dd1-98b6-65b9d40f12df"
      },
      "outputs": [
        {
          "data": {
            "text/html": [
              "\n",
              "  <div id=\"df-ba1bd405-dcfb-4da7-a155-b4330b821b5a\">\n",
              "    <div class=\"colab-df-container\">\n",
              "      <div>\n",
              "<style scoped>\n",
              "    .dataframe tbody tr th:only-of-type {\n",
              "        vertical-align: middle;\n",
              "    }\n",
              "\n",
              "    .dataframe tbody tr th {\n",
              "        vertical-align: top;\n",
              "    }\n",
              "\n",
              "    .dataframe thead th {\n",
              "        text-align: right;\n",
              "    }\n",
              "</style>\n",
              "<table border=\"1\" class=\"dataframe\">\n",
              "  <thead>\n",
              "    <tr style=\"text-align: right;\">\n",
              "      <th></th>\n",
              "      <th>is_sarcastic</th>\n",
              "      <th>headline</th>\n",
              "    </tr>\n",
              "  </thead>\n",
              "  <tbody>\n",
              "    <tr>\n",
              "      <th>0</th>\n",
              "      <td>1</td>\n",
              "      <td>thirtysomething scientists unveil doomsday clo...</td>\n",
              "    </tr>\n",
              "    <tr>\n",
              "      <th>1</th>\n",
              "      <td>0</td>\n",
              "      <td>dem rep. totally nails why congress is falling...</td>\n",
              "    </tr>\n",
              "    <tr>\n",
              "      <th>2</th>\n",
              "      <td>0</td>\n",
              "      <td>eat your veggies: 9 deliciously different recipes</td>\n",
              "    </tr>\n",
              "    <tr>\n",
              "      <th>3</th>\n",
              "      <td>1</td>\n",
              "      <td>inclement weather prevents liar from getting t...</td>\n",
              "    </tr>\n",
              "    <tr>\n",
              "      <th>4</th>\n",
              "      <td>1</td>\n",
              "      <td>mother comes pretty close to using word 'strea...</td>\n",
              "    </tr>\n",
              "  </tbody>\n",
              "</table>\n",
              "</div>\n",
              "      <button class=\"colab-df-convert\" onclick=\"convertToInteractive('df-ba1bd405-dcfb-4da7-a155-b4330b821b5a')\"\n",
              "              title=\"Convert this dataframe to an interactive table.\"\n",
              "              style=\"display:none;\">\n",
              "        \n",
              "  <svg xmlns=\"http://www.w3.org/2000/svg\" height=\"24px\"viewBox=\"0 0 24 24\"\n",
              "       width=\"24px\">\n",
              "    <path d=\"M0 0h24v24H0V0z\" fill=\"none\"/>\n",
              "    <path d=\"M18.56 5.44l.94 2.06.94-2.06 2.06-.94-2.06-.94-.94-2.06-.94 2.06-2.06.94zm-11 1L8.5 8.5l.94-2.06 2.06-.94-2.06-.94L8.5 2.5l-.94 2.06-2.06.94zm10 10l.94 2.06.94-2.06 2.06-.94-2.06-.94-.94-2.06-.94 2.06-2.06.94z\"/><path d=\"M17.41 7.96l-1.37-1.37c-.4-.4-.92-.59-1.43-.59-.52 0-1.04.2-1.43.59L10.3 9.45l-7.72 7.72c-.78.78-.78 2.05 0 2.83L4 21.41c.39.39.9.59 1.41.59.51 0 1.02-.2 1.41-.59l7.78-7.78 2.81-2.81c.8-.78.8-2.07 0-2.86zM5.41 20L4 18.59l7.72-7.72 1.47 1.35L5.41 20z\"/>\n",
              "  </svg>\n",
              "      </button>\n",
              "      \n",
              "  <style>\n",
              "    .colab-df-container {\n",
              "      display:flex;\n",
              "      flex-wrap:wrap;\n",
              "      gap: 12px;\n",
              "    }\n",
              "\n",
              "    .colab-df-convert {\n",
              "      background-color: #E8F0FE;\n",
              "      border: none;\n",
              "      border-radius: 50%;\n",
              "      cursor: pointer;\n",
              "      display: none;\n",
              "      fill: #1967D2;\n",
              "      height: 32px;\n",
              "      padding: 0 0 0 0;\n",
              "      width: 32px;\n",
              "    }\n",
              "\n",
              "    .colab-df-convert:hover {\n",
              "      background-color: #E2EBFA;\n",
              "      box-shadow: 0px 1px 2px rgba(60, 64, 67, 0.3), 0px 1px 3px 1px rgba(60, 64, 67, 0.15);\n",
              "      fill: #174EA6;\n",
              "    }\n",
              "\n",
              "    [theme=dark] .colab-df-convert {\n",
              "      background-color: #3B4455;\n",
              "      fill: #D2E3FC;\n",
              "    }\n",
              "\n",
              "    [theme=dark] .colab-df-convert:hover {\n",
              "      background-color: #434B5C;\n",
              "      box-shadow: 0px 1px 3px 1px rgba(0, 0, 0, 0.15);\n",
              "      filter: drop-shadow(0px 1px 2px rgba(0, 0, 0, 0.3));\n",
              "      fill: #FFFFFF;\n",
              "    }\n",
              "  </style>\n",
              "\n",
              "      <script>\n",
              "        const buttonEl =\n",
              "          document.querySelector('#df-ba1bd405-dcfb-4da7-a155-b4330b821b5a button.colab-df-convert');\n",
              "        buttonEl.style.display =\n",
              "          google.colab.kernel.accessAllowed ? 'block' : 'none';\n",
              "\n",
              "        async function convertToInteractive(key) {\n",
              "          const element = document.querySelector('#df-ba1bd405-dcfb-4da7-a155-b4330b821b5a');\n",
              "          const dataTable =\n",
              "            await google.colab.kernel.invokeFunction('convertToInteractive',\n",
              "                                                     [key], {});\n",
              "          if (!dataTable) return;\n",
              "\n",
              "          const docLinkHtml = 'Like what you see? Visit the ' +\n",
              "            '<a target=\"_blank\" href=https://colab.research.google.com/notebooks/data_table.ipynb>data table notebook</a>'\n",
              "            + ' to learn more about interactive tables.';\n",
              "          element.innerHTML = '';\n",
              "          dataTable['output_type'] = 'display_data';\n",
              "          await google.colab.output.renderOutput(dataTable, element);\n",
              "          const docLink = document.createElement('div');\n",
              "          docLink.innerHTML = docLinkHtml;\n",
              "          element.appendChild(docLink);\n",
              "        }\n",
              "      </script>\n",
              "    </div>\n",
              "  </div>\n",
              "  "
            ],
            "text/plain": [
              "   is_sarcastic                                           headline\n",
              "0             1  thirtysomething scientists unveil doomsday clo...\n",
              "1             0  dem rep. totally nails why congress is falling...\n",
              "2             0  eat your veggies: 9 deliciously different recipes\n",
              "3             1  inclement weather prevents liar from getting t...\n",
              "4             1  mother comes pretty close to using word 'strea..."
            ]
          },
          "execution_count": 3,
          "metadata": {},
          "output_type": "execute_result"
        }
      ],
      "source": [
        "# Remover la columna 'article_link' que no se necesita\n",
        "sarcasm_data.drop('article_link', axis=1, inplace=True)\n",
        "sarcasm_data.head()"
      ]
    },
    {
      "cell_type": "code",
      "execution_count": 4,
      "metadata": {
        "colab": {
          "base_uri": "https://localhost:8080/"
        },
        "id": "hOqQln0Bdxco",
        "outputId": "5438373c-0981-405b-d615-e35f2eef3c71"
      },
      "outputs": [
        {
          "data": {
            "text/plain": [
              "28619"
            ]
          },
          "execution_count": 4,
          "metadata": {},
          "output_type": "execute_result"
        }
      ],
      "source": [
        "len(sarcasm_data)"
      ]
    },
    {
      "cell_type": "code",
      "execution_count": 5,
      "metadata": {
        "id": "txYiva7s5Sz9"
      },
      "outputs": [],
      "source": [
        "# Separar los datos en frases y etiquetas para su procesamiento\n",
        "headline_tmp = sarcasm_data['headline'].tolist()\n",
        "labels = sarcasm_data['is_sarcastic'].tolist()"
      ]
    },
    {
      "cell_type": "code",
      "execution_count": 6,
      "metadata": {
        "colab": {
          "base_uri": "https://localhost:8080/"
        },
        "id": "ObvAjfqc5S0A",
        "outputId": "f67ba834-378e-4b45-f445-8c5838c45c17"
      },
      "outputs": [
        {
          "data": {
            "text/plain": [
              "['thirtysomething scientists unveil doomsday clock of hair loss',\n",
              " 'dem rep. totally nails why congress is falling short on gender, racial equality',\n",
              " 'eat your veggies: 9 deliciously different recipes',\n",
              " 'inclement weather prevents liar from getting to work',\n",
              " \"mother comes pretty close to using word 'streaming' correctly\",\n",
              " 'my white inheritance',\n",
              " '5 ways to file your taxes with less stress',\n",
              " \"richard branson's global-warming donation nearly as much as cost of failed balloon trips\",\n",
              " 'shadow government getting too large to meet in marriott conference room b',\n",
              " 'lots of parents know this scenario']"
            ]
          },
          "execution_count": 6,
          "metadata": {},
          "output_type": "execute_result"
        }
      ],
      "source": [
        "headline_tmp[0:10]"
      ]
    },
    {
      "cell_type": "code",
      "execution_count": 7,
      "metadata": {
        "colab": {
          "base_uri": "https://localhost:8080/"
        },
        "id": "qTHT6OpX5S0E",
        "outputId": "5423cf6d-e025-4ff9-f740-15762c745451"
      },
      "outputs": [
        {
          "data": {
            "text/plain": [
              "[1, 0, 0, 1, 1, 0, 0, 1, 1, 0]"
            ]
          },
          "execution_count": 7,
          "metadata": {},
          "output_type": "execute_result"
        }
      ],
      "source": [
        "labels[0:10]"
      ]
    },
    {
      "cell_type": "code",
      "execution_count": 8,
      "metadata": {
        "colab": {
          "base_uri": "https://localhost:8080/"
        },
        "id": "xbe8pnph5S0I",
        "outputId": "be4e4b06-94b9-4ccb-bb73-179964c9e104"
      },
      "outputs": [
        {
          "name": "stdout",
          "output_type": "stream",
          "text": [
            "[nltk_data] Downloading package stopwords to /root/nltk_data...\n",
            "[nltk_data]   Unzipping corpora/stopwords.zip.\n"
          ]
        }
      ],
      "source": [
        "import nltk\n",
        "from nltk.corpus import stopwords\n",
        "nltk.download('stopwords')\n",
        "\n",
        "# Eliminar las stopwords y los signos de puntuacion\n",
        "\n",
        "# stopwords = [ \"a\", \"about\", \"above\", \"after\", \"again\", \"against\", \"all\", \"am\", \"an\", \"and\", \"any\", \"are\", \"as\", \"at\", \"be\", \"because\", \"been\", \"before\", \"being\", \"below\", \"between\", \"both\", \"but\", \"by\", \"could\", \"did\", \"do\", \"does\", \"doing\", \"down\", \"during\", \"each\", \"few\", \"for\", \"from\", \"further\", \"had\", \"has\", \"have\", \"having\", \"he\", \"he'd\", \"he'll\", \"he's\", \"her\", \"here\", \"here's\", \"hers\", \"herself\", \"him\", \"himself\", \"his\", \"how\", \"how's\", \"i\", \"i'd\", \"i'll\", \"i'm\", \"i've\", \"if\", \"in\", \"into\", \"is\", \"it\", \"it's\", \"its\", \"itself\", \"let's\", \"me\", \"more\", \"most\", \"my\", \"myself\", \"nor\", \"of\", \"on\", \"once\", \"only\", \"or\", \"other\", \"ought\", \"our\", \"ours\", \"ourselves\", \"out\", \"over\", \"own\", \"same\", \"she\", \"she'd\", \"she'll\", \"she's\", \"should\", \"so\", \"some\", \"such\", \"than\", \"that\", \"that's\", \"the\", \"their\", \"theirs\", \"them\", \"themselves\", \"then\", \"there\", \"there's\", \"these\", \"they\", \"they'd\", \"they'll\", \"they're\", \"they've\", \"this\", \"those\", \"through\", \"to\", \"too\", \"under\", \"until\", \"up\", \"very\", \"was\", \"we\", \"we'd\", \"we'll\", \"we're\", \"we've\", \"were\", \"what\", \"what's\", \"when\", \"when's\", \"where\", \"where's\", \"which\", \"while\", \"who\", \"who's\", \"whom\", \"why\", \"why's\", \"with\", \"would\", \"you\", \"you'd\", \"you'll\", \"you're\", \"you've\", \"your\", \"yours\", \"yourself\", \"yourselves\" ]\n",
        "stopwords = set(stopwords.words('english'))\n",
        "\n",
        "# Eliminar las stopwords de las frases\n",
        "headline = []\n",
        "for sent in headline_tmp:\n",
        "   filtered_list = []\n",
        "   for word in sent.split():\n",
        "     if word not in stopwords:\n",
        "       filtered_list.append(word)\n",
        "   join_str = ' '.join([str(ele) for ele in filtered_list])\n",
        "   headline.append(join_str)"
      ]
    },
    {
      "cell_type": "code",
      "execution_count": 9,
      "metadata": {
        "colab": {
          "base_uri": "https://localhost:8080/"
        },
        "id": "vpmkgoF65S0M",
        "outputId": "ef764d28-099a-47ea-cd34-5e804c0d878e"
      },
      "outputs": [
        {
          "data": {
            "text/plain": [
              "['thirtysomething scientists unveil doomsday clock hair loss',\n",
              " 'dem rep. totally nails congress falling short gender, racial equality',\n",
              " 'eat veggies: 9 deliciously different recipes',\n",
              " 'inclement weather prevents liar getting work',\n",
              " \"mother comes pretty close using word 'streaming' correctly\",\n",
              " 'white inheritance',\n",
              " '5 ways file taxes less stress',\n",
              " \"richard branson's global-warming donation nearly much cost failed balloon trips\",\n",
              " 'shadow government getting large meet marriott conference room b',\n",
              " 'lots parents know scenario']"
            ]
          },
          "execution_count": 9,
          "metadata": {},
          "output_type": "execute_result"
        }
      ],
      "source": [
        "headline[0:10]"
      ]
    },
    {
      "cell_type": "markdown",
      "metadata": {
        "id": "JetBsJt_5S0t"
      },
      "source": [
        "# **Distribucion de los datos**"
      ]
    },
    {
      "cell_type": "markdown",
      "metadata": {
        "id": "0bcTe3gS5S0w"
      },
      "source": [
        "## **Histograma**"
      ]
    },
    {
      "cell_type": "code",
      "execution_count": 10,
      "metadata": {
        "colab": {
          "base_uri": "https://localhost:8080/"
        },
        "id": "FLPw_I4k5S01",
        "outputId": "23142a32-63bf-49f0-e196-4f657e57823c"
      },
      "outputs": [
        {
          "data": {
            "text/plain": [
              "0    14985\n",
              "1    13634\n",
              "Name: is_sarcastic, dtype: int64"
            ]
          },
          "execution_count": 10,
          "metadata": {},
          "output_type": "execute_result"
        }
      ],
      "source": [
        "sarcasm_data['is_sarcastic'].value_counts()"
      ]
    },
    {
      "cell_type": "code",
      "execution_count": 11,
      "metadata": {
        "colab": {
          "base_uri": "https://localhost:8080/",
          "height": 592
        },
        "id": "JRT_z8_X5S06",
        "outputId": "627670d9-a8c1-479a-f20e-1c538d2b821a"
      },
      "outputs": [
        {
          "data": {
            "image/png": "[encoded data removed]",
            "text/plain": [
              "<Figure size 720x720 with 1 Axes>"
            ]
          },
          "metadata": {
            "needs_background": "light"
          },
          "output_type": "display_data"
        }
      ],
      "source": [
        "plt.figure(figsize=(10,10))\n",
        "plt.hist(sarcasm_data['is_sarcastic'],bins=3)\n",
        "plt.xticks([0,1])\n",
        "plt.show()"
      ]
    },
    {
      "cell_type": "markdown",
      "metadata": {
        "id": "B493uljq5S08"
      },
      "source": [
        "# **Tamaño de las frases**"
      ]
    },
    {
      "cell_type": "code",
      "execution_count": 12,
      "metadata": {
        "id": "abOggg5K5S08"
      },
      "outputs": [],
      "source": [
        "# Crear una nueva columna en el dataframe con la cantidad de palabras en cada frase\n",
        "sarcasm_data['headline_length'] = sarcasm_data['headline'].apply(lambda x: len(x.split())) "
      ]
    },
    {
      "cell_type": "code",
      "execution_count": 13,
      "metadata": {
        "colab": {
          "base_uri": "https://localhost:8080/"
        },
        "id": "CJ58sJ-C5S1A",
        "outputId": "5e270f0c-03e8-4c24-cd76-270ccfeef465"
      },
      "outputs": [
        {
          "data": {
            "text/plain": [
              "0     8\n",
              "1    13\n",
              "2     7\n",
              "3     8\n",
              "4     9\n",
              "Name: headline_length, dtype: int64"
            ]
          },
          "execution_count": 13,
          "metadata": {},
          "output_type": "execute_result"
        }
      ],
      "source": [
        "sarcasm_data['headline_length'].head()"
      ]
    },
    {
      "cell_type": "code",
      "execution_count": 14,
      "metadata": {
        "colab": {
          "base_uri": "https://localhost:8080/",
          "height": 355
        },
        "id": "NtL84O22dxc-",
        "outputId": "b1065c54-6ac8-46af-c1a1-759d6f2eb2ad"
      },
      "outputs": [
        {
          "name": "stderr",
          "output_type": "stream",
          "text": [
            "/usr/local/lib/python3.7/dist-packages/seaborn/distributions.py:2619: FutureWarning: `distplot` is a deprecated function and will be removed in a future version. Please adapt your code to use either `displot` (a figure-level function with similar flexibility) or `histplot` (an axes-level function for histograms).\n",
            "  warnings.warn(msg, FutureWarning)\n"
          ]
        },
        {
          "data": {
            "text/plain": [
              "<matplotlib.axes._subplots.AxesSubplot at 0x7f82ed43e390>"
            ]
          },
          "execution_count": 14,
          "metadata": {},
          "output_type": "execute_result"
        },
        {
          "data": {
            "image/png": "[encoded data removed]",
            "text/plain": [
              "<Figure size 432x288 with 1 Axes>"
            ]
          },
          "metadata": {
            "needs_background": "light"
          },
          "output_type": "display_data"
        }
      ],
      "source": [
        "import seaborn as sns\n",
        "\n",
        "sns.distplot(sarcasm_data['headline_length'])"
      ]
    },
    {
      "cell_type": "code",
      "execution_count": 15,
      "metadata": {
        "colab": {
          "base_uri": "https://localhost:8080/"
        },
        "id": "oKXq_amz5S1N",
        "outputId": "f5179964-43e5-48a6-b5ee-48a9754734c1"
      },
      "outputs": [
        {
          "data": {
            "text/plain": [
              "count    28619.000000\n",
              "mean        10.049967\n",
              "std          3.388307\n",
              "min          2.000000\n",
              "25%          8.000000\n",
              "50%         10.000000\n",
              "75%         12.000000\n",
              "max        151.000000\n",
              "Name: headline_length, dtype: float64"
            ]
          },
          "execution_count": 15,
          "metadata": {},
          "output_type": "execute_result"
        }
      ],
      "source": [
        "sarcasm_data['headline_length'].describe()"
      ]
    },
    {
      "cell_type": "code",
      "execution_count": 16,
      "metadata": {
        "colab": {
          "base_uri": "https://localhost:8080/"
        },
        "id": "uaILvmVM5S1Q",
        "outputId": "81a9e164-1768-40f7-922f-15dc82328600"
      },
      "outputs": [
        {
          "data": {
            "text/plain": [
              "31.967399999983172"
            ]
          },
          "execution_count": 16,
          "metadata": {},
          "output_type": "execute_result"
        }
      ],
      "source": [
        "# Con este cuantil vemos que la mayoria de las frases tienen un tamaño menor a 32 palabras.\n",
        "# Esto lo usaremos como el tamaño maximo para cada frase cuando procesamos los datos.\n",
        "\n",
        "sarcasm_data['headline_length'].quantile(0.9999)"
      ]
    },
    {
      "cell_type": "markdown",
      "metadata": {
        "id": "m0RZu5uT5S1W"
      },
      "source": [
        "# **Preprocesamiento**"
      ]
    },
    {
      "cell_type": "code",
      "execution_count": 17,
      "metadata": {
        "id": "GqFS9AKG5S1c"
      },
      "outputs": [],
      "source": [
        "# Definir parametros\n",
        "\n",
        "embedding_dim = 100\n",
        "max_length = 32\n",
        "trunc_type='post'\n",
        "padding_type='post'\n",
        "oov_tok = \"<OOV>\"\n",
        "training_size = 20000"
      ]
    },
    {
      "cell_type": "code",
      "execution_count": 18,
      "metadata": {
        "colab": {
          "base_uri": "https://localhost:8080/"
        },
        "id": "5Ej2oYUw5S1e",
        "outputId": "fef623f2-8d0f-4e19-cb59-4f1ba543761a"
      },
      "outputs": [
        {
          "name": "stdout",
          "output_type": "stream",
          "text": [
            "20000\n",
            "20000\n",
            "20000\n",
            "8619\n",
            "8619\n"
          ]
        }
      ],
      "source": [
        "# Dividir los datos en datos de entrenamiento y validacion utilizando el parametro training_size\n",
        "\n",
        "train_sentences = headline[:training_size]\n",
        "train_labels = labels[:training_size]\n",
        "\n",
        "validation_sentences = headline[training_size:]\n",
        "validation_labels = labels[training_size:]\n",
        "\n",
        "print(training_size)\n",
        "print(len(train_sentences))\n",
        "print(len(train_labels))\n",
        "print(len(validation_sentences))\n",
        "print(len(validation_labels))"
      ]
    },
    {
      "cell_type": "code",
      "execution_count": 19,
      "metadata": {
        "id": "kje92kd95S1f"
      },
      "outputs": [],
      "source": [
        "# tokenizer -> para tokenizar y transformar las palabras en datos numericos\n",
        "# pad_sequences -> para rellenar los datos para que tengan la misma longitud (max_length)\n",
        "\n",
        "from tensorflow.keras.preprocessing.text import Tokenizer\n",
        "from tensorflow.keras.preprocessing.sequence import pad_sequences\n",
        "\n",
        "tokenizer = Tokenizer(oov_token=oov_tok)\n",
        "tokenizer.fit_on_texts(headline)\n",
        "word_index = tokenizer.word_index\n",
        "\n",
        "training_sequences = tokenizer.texts_to_sequences(train_sentences)\n",
        "training_padded = pad_sequences(training_sequences, maxlen=max_length, padding=padding_type, truncating=trunc_type)\n",
        "\n",
        "validation_sequences = tokenizer.texts_to_sequences(validation_sentences)\n",
        "validation_padded = pad_sequences(validation_sequences, maxlen=max_length, padding=padding_type, truncating=trunc_type)"
      ]
    },
    {
      "cell_type": "code",
      "execution_count": 20,
      "metadata": {
        "colab": {
          "base_uri": "https://localhost:8080/"
        },
        "id": "kfwwkx8h5S1v",
        "outputId": "22aabe5e-9529-402b-a780-33899c604f9f"
      },
      "outputs": [
        {
          "data": {
            "text/plain": [
              "30820"
            ]
          },
          "execution_count": 20,
          "metadata": {},
          "output_type": "execute_result"
        }
      ],
      "source": [
        "# El tamaño del vocabulario sera el numero total de palabras en word_index identificadas por el tokenizer a partir de los datos de entrenamiento.\n",
        "len(word_index)"
      ]
    },
    {
      "cell_type": "code",
      "execution_count": 21,
      "metadata": {
        "colab": {
          "base_uri": "https://localhost:8080/"
        },
        "id": "lMU8qyRF5S1y",
        "outputId": "00abca46-27a8-435b-9a0f-0aea36eb29d6"
      },
      "outputs": [
        {
          "data": {
            "text/plain": [
              "[15936, 261, 3067, 7384, 2540, 554, 1019]"
            ]
          },
          "execution_count": 21,
          "metadata": {},
          "output_type": "execute_result"
        }
      ],
      "source": [
        "training_sequences[0]"
      ]
    },
    {
      "cell_type": "code",
      "execution_count": 22,
      "metadata": {
        "colab": {
          "base_uri": "https://localhost:8080/"
        },
        "id": "C1SdDDsR5S10",
        "outputId": "489ca830-0e91-4f23-ce7e-53f4ea2589c4"
      },
      "outputs": [
        {
          "data": {
            "text/plain": [
              "array([15936,   261,  3067,  7384,  2540,   554,  1019,     0,     0,\n",
              "           0,     0,     0,     0,     0,     0,     0,     0,     0,\n",
              "           0,     0,     0,     0,     0,     0,     0,     0,     0,\n",
              "           0,     0,     0,     0,     0], dtype=int32)"
            ]
          },
          "execution_count": 22,
          "metadata": {},
          "output_type": "execute_result"
        }
      ],
      "source": [
        "training_padded[0]"
      ]
    },
    {
      "cell_type": "code",
      "execution_count": 23,
      "metadata": {
        "id": "T62_j2sV5S10"
      },
      "outputs": [],
      "source": [
        "# Convertir a arrays de numpy\n",
        "\n",
        "training_padded = np.array(training_padded)\n",
        "validation_padded = np.array(validation_padded)\n",
        "training_labels_pad = np.array(train_labels)\n",
        "validation_labels_pad = np.array(validation_labels)"
      ]
    },
    {
      "cell_type": "markdown",
      "metadata": {
        "id": "v6FXUeRO5S11"
      },
      "source": [
        "# **Modelo usando GloVe para el Embedding**"
      ]
    },
    {
      "cell_type": "code",
      "execution_count": 24,
      "metadata": {
        "colab": {
          "base_uri": "https://localhost:8080/"
        },
        "id": "hG2RPq-PjMuu",
        "outputId": "81ab086d-9b7f-440f-e54f-02e9a049a8a2"
      },
      "outputs": [
        {
          "name": "stdout",
          "output_type": "stream",
          "text": [
            "Mounted at /content/drive\n"
          ]
        }
      ],
      "source": [
        "from google.colab import drive\n",
        "drive.mount('/content/drive')\n",
        "\n",
        "vocab_size = len(word_index)\n",
        "\n",
        "# para cada linea en el archivo glove, el primer valor es la palabra y el segundo valor es el embedding (array de 100 dimensiones)\n",
        "# Almacenar los valores en un diccionario\n",
        "embeddings_index = {}\n",
        "with open('drive/MyDrive/sarcasmo/glove.6B.100d.txt') as f:\n",
        "    for line in f:\n",
        "        values = line.split()\n",
        "        word = values[0]\n",
        "        coefs = np.asarray(values[1:], dtype='float32')\n",
        "        embeddings_index[word]=coefs\n",
        "\n",
        "# inicializar una matriz de ceros y luego asignar la codificacion de las palabras en el vocabulario al indice apropiado en embedding_matrix\n",
        "embeddings_matrix = np.zeros((vocab_size+1, embedding_dim))\n",
        "for key in sorted(word_index, key=word_index.get)[:vocab_size]:\n",
        "    embedding_vector = embeddings_index.get(key)\n",
        "    if embedding_vector is not None:\n",
        "        embeddings_matrix[word_index[key]] = embedding_vector"
      ]
    },
    {
      "cell_type": "code",
      "execution_count": 25,
      "metadata": {
        "colab": {
          "base_uri": "https://localhost:8080/"
        },
        "id": "am-F6l5_jMmz",
        "outputId": "16e873c5-f5a9-4795-ade8-cb99f3d6f75a"
      },
      "outputs": [
        {
          "data": {
            "text/plain": [
              "(30821, 100)"
            ]
          },
          "execution_count": 25,
          "metadata": {},
          "output_type": "execute_result"
        }
      ],
      "source": [
        "embeddings_matrix.shape"
      ]
    },
    {
      "cell_type": "code",
      "execution_count": 26,
      "metadata": {
        "colab": {
          "base_uri": "https://localhost:8080/"
        },
        "id": "XmaIyW4zjMef",
        "outputId": "eade6fce-d591-4b5b-c09c-419f55bfb3dc"
      },
      "outputs": [
        {
          "name": "stdout",
          "output_type": "stream",
          "text": [
            "<OOV> 1\n",
            "new 2\n",
            "trump 3\n",
            "man 4\n",
            "report 5\n",
            "one 6\n",
            "year 7\n",
            "day 8\n",
            "u 9\n",
            "area 10\n"
          ]
        }
      ],
      "source": [
        "# Primeras 10 palabras y el indice correspondiente del diccionario word_index que contiene el vocabulario\n",
        "\n",
        "for key in sorted(word_index, key=word_index.get)[:10]:\n",
        "  print(key,end=' ')\n",
        "  print(word_index.get(key))"
      ]
    },
    {
      "cell_type": "code",
      "execution_count": 27,
      "metadata": {
        "colab": {
          "base_uri": "https://localhost:8080/"
        },
        "id": "z5YG9pFajMV3",
        "outputId": "37930687-685d-4bb1-e4bb-22a3f841424e"
      },
      "outputs": [
        {
          "name": "stdout",
          "output_type": "stream",
          "text": [
            "<OOV> None\n",
            "new [-4.3959e-02  1.8936e-01  6.6110e-01 -4.9007e-01  3.2211e-01 -3.4161e-01\n",
            " -6.8480e-02  3.1364e-01 -7.1142e-01  5.7436e-01 -3.3588e-01 -5.2279e-01\n",
            " -3.9075e-01 -8.9694e-02  4.6371e-01 -3.5610e-01  8.4576e-01 -2.6188e-02\n",
            " -1.9328e-01 -8.3846e-02  3.1806e-01 -1.9812e-01  3.0009e-01  6.9189e-02\n",
            "  5.4470e-01 -5.9193e-01  5.4221e-01 -6.2876e-01 -5.3447e-01  4.2334e-01\n",
            "  3.0869e-02  9.7164e-01 -5.6222e-01  4.5752e-02 -5.7100e-01  8.0185e-02\n",
            " -8.1434e-02 -6.0260e-01  1.6466e-01 -4.0281e-01 -4.7701e-01 -5.1950e-01\n",
            "  1.2777e-01 -4.3775e-01  2.6602e-01  4.8752e-01 -6.0220e-02 -5.2622e-01\n",
            "  3.7687e-01 -1.8007e-01  3.0166e-02 -9.4577e-02  1.6330e-01  5.9041e-01\n",
            " -4.8877e-01 -3.4230e+00  1.3113e-01 -8.0386e-02  1.8978e+00  1.8857e-01\n",
            " -5.7300e-01  8.6358e-01  2.1116e-03  3.6060e-01  8.0475e-01 -1.3954e-01\n",
            " -5.3935e-02  3.8873e-01  3.0673e-01 -3.1395e-01  8.3238e-02 -4.1737e-01\n",
            " -1.0998e+00 -8.8005e-01  2.1550e-01 -2.6132e-01 -1.0091e-01  7.9584e-02\n",
            " -1.2341e+00 -6.5281e-01  6.3363e-01 -9.8491e-02  3.3518e-01  2.6332e-01\n",
            " -9.6427e-01 -1.4150e-02  3.0849e-01 -3.1418e-01 -4.0793e-01 -4.2900e-01\n",
            "  8.5451e-02 -2.0073e-01  5.5050e-02 -4.0922e-02 -9.4015e-01  6.9544e-02\n",
            " -4.5397e-01 -1.4168e-01  9.2789e-01  5.9058e-01]\n",
            "trump [-0.15731  -0.75503   0.36845  -0.18958  -0.16896  -0.23157  -0.22658\n",
            " -0.30186   0.24372   0.61896   0.58995   0.047638 -0.055164 -0.70211\n",
            "  0.22084  -0.69232   0.49419   1.4285   -0.25362   0.20031  -0.26192\n",
            "  0.05315  -0.048418 -0.44982   0.54644  -0.014645 -0.015531 -0.61197\n",
            " -0.91964  -0.7528    0.64843   1.0934    0.052682  0.33345   0.10532\n",
            "  0.59517   0.023104 -0.37105   0.29749  -0.23683   0.079566 -0.10326\n",
            "  0.35885  -0.28935  -0.19881   0.22908  -0.061435  0.56127  -0.017115\n",
            " -0.32868  -0.78417  -0.49375   0.34944   0.16278  -0.061168 -1.3106\n",
            "  0.39152   0.124    -0.20873  -0.18473  -0.56184   0.55693   0.012114\n",
            " -0.54545  -0.31409   0.1       0.31543   0.74757  -0.47734  -0.18332\n",
            " -0.65623   0.40768  -0.30697  -0.47247  -0.7421   -0.44978  -0.078122\n",
            " -0.52673  -0.70633   1.3271    0.26298  -0.91      0.91632  -0.51643\n",
            "  0.20284  -0.25402  -1.2566    0.20271   0.92105  -0.57574  -0.15105\n",
            " -0.24831   0.36673  -0.53987   0.18534   0.25713   0.38794  -0.54137\n",
            "  0.67817  -0.17251 ]\n",
            "man [ 3.7293e-01  3.8503e-01  7.1086e-01 -6.5911e-01 -1.0128e-03  9.2715e-01\n",
            "  2.7615e-01 -5.6203e-02 -2.4294e-01  2.4632e-01 -1.8449e-01  3.1398e-01\n",
            "  4.8983e-01  9.2560e-02  3.2958e-01  1.5056e-01  5.7317e-01 -1.8529e-01\n",
            " -5.2277e-01  4.6191e-01  9.2038e-01  3.1001e-02 -1.6246e-01 -4.0567e-01\n",
            "  7.8621e-01  5.7722e-01 -5.3501e-01 -6.8228e-01  1.6987e-01  3.6310e-01\n",
            " -7.1773e-02  4.7233e-01  2.7806e-02 -1.4951e-01  1.7543e-01 -3.7573e-01\n",
            " -7.8517e-01  5.8171e-01  8.6859e-01  3.1445e-02 -4.5897e-01 -4.0917e-02\n",
            "  9.5897e-01 -1.6975e-01  1.3045e-01  2.7434e-01 -6.9485e-02  2.2402e-02\n",
            "  2.4977e-01 -2.1536e-01 -3.2406e-01 -3.9867e-01  6.8613e-01  1.7923e+00\n",
            " -3.7848e-01 -2.2477e+00 -7.7025e-01  4.6582e-01  1.2411e+00  5.7756e-01\n",
            "  4.1151e-01  8.4328e-01 -5.4259e-01 -1.6715e-01  7.3927e-01 -9.3477e-02\n",
            "  9.0278e-01  5.0889e-01 -5.0031e-01  2.6451e-01  1.5443e-01 -2.9432e-01\n",
            "  1.0906e-01 -2.6667e-01  3.5438e-01  4.9079e-02  1.8018e-01 -5.8590e-01\n",
            " -5.5542e-01 -2.8987e-01  7.4278e-01  3.4530e-01 -2.8757e-02 -2.2646e-01\n",
            " -1.3113e+00 -5.7190e-01 -5.2306e-01 -1.2670e-01 -9.8678e-02 -5.3463e-01\n",
            "  2.8607e-01 -3.7501e-01  4.5742e-01  4.5975e-02 -2.4675e-01  4.5656e-02\n",
            " -3.8302e-01 -9.3711e-01  3.9138e-02 -5.3911e-01]\n",
            "report [-0.59537   -0.32836    0.58577   -0.74072   -0.09532   -0.74893\n",
            " -0.28177    0.52217    0.31904    0.083793   0.50095    0.10168\n",
            "  0.31447    0.26187   -0.11273    0.76669    0.044041  -0.58808\n",
            " -0.51672   -0.14013    0.24544   -0.678     -0.24864    0.87743\n",
            " -0.64057   -0.62382    0.36739   -0.20345   -0.50641    0.52411\n",
            "  0.28528   -0.11386   -0.47109    0.26002   -0.46366    0.27499\n",
            "  0.06741    0.31625   -0.22564    0.029032  -1.3492     0.19262\n",
            " -0.66144    0.20876    0.24751   -0.33938   -0.18857   -0.88209\n",
            " -0.46367   -1.3514     1.2399    -0.080302   0.14926    0.70604\n",
            " -0.50818   -2.225     -0.20132   -0.33361    1.8033     0.066711\n",
            " -0.49835    0.027327  -0.30273   -0.60213    0.4461    -0.4295\n",
            " -0.091883   0.57811    0.58537    0.4652     0.11657    0.36907\n",
            " -0.3127    -0.35623    0.30122    0.35685    0.043412   0.054971\n",
            " -1.9139    -0.094874   0.59941    0.60765   -0.64818   -0.39301\n",
            " -1.1928    -1.3394     0.54517   -0.33547   -0.20778   -0.020578\n",
            "  0.63703   -0.41109   -0.12349   -0.29479   -0.032713   0.83004\n",
            " -0.0063338 -0.46121    0.52141    0.16243  ]\n",
            "one [-0.22557   0.49418   0.4861   -0.4332    0.13738   0.50617   0.26058\n",
            "  0.30103  -0.091486  0.10876   0.3058    0.051028  0.22303   0.054236\n",
            "  0.068838 -0.24701   0.32689  -0.082203 -0.28866   0.3734    0.73804\n",
            " -0.040969  0.040201  0.11384   0.69987  -0.49745  -0.06755  -0.42599\n",
            " -0.10725  -0.010697 -0.01479   0.55976   0.3064    0.053053  0.058034\n",
            "  0.32756  -0.37233   0.46513   0.14285  -0.085003 -0.45476   0.19773\n",
            "  0.6383   -0.31148   0.10858   0.31557   0.36682  -0.35135  -0.48414\n",
            " -0.33235  -0.33816  -0.39678   0.1908    1.3513   -0.39044  -2.8795\n",
            " -0.14276  -0.087754  1.7713    0.99332  -0.14129   0.94389   0.050897\n",
            "  0.47373   0.86387  -0.16162   0.67199   0.52344   0.14438  -0.055194\n",
            " -0.34669  -0.20742   0.18907  -0.19845   0.34862   0.10121  -0.092119\n",
            " -0.66258  -1.0582   -0.11803   0.70171   0.077776 -0.50546   0.032243\n",
            " -1.6176   -0.29302  -0.061748 -0.32473   0.3439   -0.44698   0.085689\n",
            "  0.13295  -0.1807   -0.11854  -0.82985   0.13784  -0.34359  -0.45744\n",
            "  0.49646   0.34906 ]\n",
            "year [ 4.4234e-01  4.8431e-01  3.7284e-01 -5.2861e-01  2.1558e-01 -4.6290e-01\n",
            "  6.0307e-01  7.1816e-01 -4.1382e-01  1.5157e-01 -2.9360e-02 -1.2905e-02\n",
            "  2.4569e-01 -2.6380e-02  2.8137e-04 -4.1139e-01  1.6784e-01 -9.4465e-02\n",
            " -3.9723e-01  2.5608e-01  3.9144e-01 -1.4293e-01  1.5430e-01  1.1509e+00\n",
            "  5.1744e-01 -4.2260e-01 -7.9870e-02 -7.7108e-01  7.8489e-02 -4.9301e-01\n",
            " -1.4824e-01  1.6366e-01  2.3525e-01 -3.2219e-01 -5.0613e-01  6.8354e-01\n",
            " -3.9673e-01  4.8081e-01 -5.9104e-01 -1.9323e-01 -2.8618e-01 -1.6291e-01\n",
            "  4.8853e-01  3.7437e-02  3.9265e-02  2.5850e-02  4.7258e-01 -1.3542e+00\n",
            "  2.6895e-02 -1.2436e+00 -1.3284e-01 -9.8070e-01  3.9823e-01  1.1715e+00\n",
            " -4.9008e-01 -2.8411e+00 -1.7090e-01 -2.1840e-01  2.0011e+00  5.9575e-01\n",
            " -3.6505e-01  7.8590e-01 -4.5694e-01  7.0966e-02  1.8904e-01  2.2404e-01\n",
            "  6.0091e-02  5.0271e-02  8.2711e-01 -2.4997e-01  4.6051e-01 -1.1298e-01\n",
            " -1.0912e+00  1.4487e-01 -8.3451e-01  1.2452e-01 -2.6793e-01  2.7680e-02\n",
            " -1.4872e+00 -1.8120e-01  8.8620e-01 -5.3061e-02 -4.9827e-01  3.1571e-01\n",
            " -1.1596e+00 -1.8781e-01  1.5968e-01 -5.7221e-01 -4.7602e-02 -3.2081e-01\n",
            " -7.0405e-02  3.6944e-01 -4.2656e-01 -8.0083e-02 -8.7588e-01  2.8568e-01\n",
            "  9.9353e-02  3.8253e-01  4.7456e-01 -6.5050e-01]\n",
            "day [-3.6689e-01  4.1540e-01  1.3478e-01 -1.7841e-01 -4.0050e-01  2.0647e-01\n",
            "  4.2742e-01  1.1290e+00 -8.3981e-01 -4.7955e-01  2.1115e-02 -1.8319e-01\n",
            "  2.4588e-01 -2.9048e-02  2.9683e-01 -4.4613e-01  1.7493e-01 -1.6619e-01\n",
            " -4.9573e-01 -2.6547e-02  7.6369e-01 -2.0810e-01  2.6494e-01  3.3085e-01\n",
            "  5.7039e-01  1.2832e-01 -2.8324e-01  7.8652e-02  3.8330e-01 -7.4012e-02\n",
            " -5.6725e-01 -2.5826e-01  1.4013e-01  1.1077e-01 -2.1629e-01  4.0637e-01\n",
            " -4.5740e-01  2.7936e-01  1.6717e-01 -1.6388e-01 -6.9184e-01 -3.1493e-01\n",
            "  6.5592e-01 -2.2426e-03 -1.6975e-02  1.0777e-01 -1.8928e-01 -7.7079e-01\n",
            "  2.4333e-01 -1.1467e+00  1.2931e-01 -5.9668e-01  5.2350e-01  1.0476e+00\n",
            " -8.3517e-01 -2.6268e+00 -3.2837e-01  2.4767e-01  2.1535e+00  6.0561e-01\n",
            " -5.4019e-01  9.9737e-01 -1.8484e-01 -4.7044e-01 -1.9265e-02  3.4195e-01\n",
            "  3.1006e-01 -3.1499e-01  2.9990e-01 -3.7647e-01 -1.0041e-01 -4.8373e-01\n",
            " -3.8982e-01 -3.4424e-01 -1.2195e-01  5.8945e-01 -1.5675e-01 -3.3774e-01\n",
            " -1.0446e+00 -3.7927e-02  3.8237e-01 -6.3733e-02 -1.2990e-01  1.2899e-01\n",
            " -1.4625e+00 -2.2875e-01 -3.6410e-01 -1.0337e-01  2.3737e-01 -2.3498e-01\n",
            "  1.5801e-01  3.8339e-02  1.3424e-02  3.2535e-01 -1.1755e+00  4.9695e-02\n",
            "  5.7227e-01  2.4380e-02  2.2106e-01  4.3169e-01]\n",
            "u [-0.031087   0.22155    0.44494    0.92176   -0.18663    0.069117\n",
            "  0.3293     0.26915    0.15562    0.31308    0.61152   -0.11215\n",
            "  0.21906    0.49481    0.087445   0.09159   -0.14941   -0.003524\n",
            "  0.035123   0.42403    1.3093     0.38263   -0.40788    0.16399\n",
            " -0.40562    0.87825    0.38619    0.4563     0.90609   -0.48334\n",
            "  0.3058     1.1697     0.22698    0.40321   -0.19317    0.46835\n",
            "  0.50217    1.2198     0.11228   -0.70321    0.16696   -0.13545\n",
            "  0.14074   -0.50954    0.10954    0.070928  -0.43888    0.57235\n",
            "  0.28055    0.44428   -0.39781    0.28689    0.40588    0.25379\n",
            "  0.022166  -0.77768   -0.28908    0.52274    1.0746    -0.18212\n",
            " -1.1388    -0.55753   -0.7822    -0.31826    0.43901    0.71711\n",
            "  0.70671    0.842      0.014151   0.37457    0.26225    0.47146\n",
            "  0.19087   -1.096      0.35595    0.25326   -0.086234   0.69395\n",
            " -0.0077498 -0.35524   -0.11673   -1.5351    -0.22939   -0.1914\n",
            " -0.94135    0.33092    0.35075   -1.6227     0.42651   -0.10422\n",
            " -0.10879    0.81115   -0.26946    0.47199    0.0848    -0.70241\n",
            "  0.18598   -0.67097    0.24698   -0.62001  ]\n",
            "area [-0.404     0.17837   0.2692    0.026579 -0.087215  0.21388  -0.037505\n",
            "  0.6475    0.46008   0.20449  -0.11145  -0.63107   0.70219  -0.65776\n",
            "  0.65796  -0.55481   0.43058  -0.3786   -1.0637   -0.13743   0.36824\n",
            "  0.5531    0.25801  -0.27067  -0.57316  -0.58589   0.22478  -0.45185\n",
            " -0.6907   -0.26828  -0.31529  -0.25309   0.82485   0.66125   0.47154\n",
            " -0.33202   0.15191   0.54799   0.23243   0.12149  -0.35724  -0.54129\n",
            " -0.020729 -0.063098  0.69429   0.30491   0.37609   0.21313   0.50835\n",
            "  0.077025 -0.43595   0.15544  -0.16539   0.86315  -0.41518  -2.4486\n",
            " -0.3564   -0.79141   2.019     0.35921  -0.049712  1.1743    0.36535\n",
            "  0.27387   1.0065   -0.17637   0.41959  -0.60818   0.66964   0.28883\n",
            " -0.37955  -0.37196   0.65425  -0.52368   0.47552  -0.79957   0.23756\n",
            "  0.77284  -0.71264   0.51529   0.43453   0.43299  -0.91983   0.19923\n",
            " -0.48566   0.19976   0.11262  -0.22549   0.37315   0.55712  -0.062835\n",
            " -0.44359  -0.40692   0.11252  -0.92161   0.95919  -0.17863   0.096509\n",
            "  0.87043  -0.028347]\n"
          ]
        }
      ],
      "source": [
        "# Embeddings para las primeras 10 palabras\n",
        "\n",
        "for key in sorted(word_index, key=word_index.get)[:10]:\n",
        "  print(key,end=' ')\n",
        "  print(embeddings_index.get(key))"
      ]
    },
    {
      "cell_type": "code",
      "execution_count": 28,
      "metadata": {
        "colab": {
          "base_uri": "https://localhost:8080/"
        },
        "id": "BE1GXnIbjMNW",
        "outputId": "5da73638-b9e0-40c9-c15f-7398dfd3eb57"
      },
      "outputs": [
        {
          "data": {
            "text/plain": [
              "array([-4.39589992e-02,  1.89359993e-01,  6.61099970e-01, -4.90069985e-01,\n",
              "        3.22109997e-01, -3.41610014e-01, -6.84799999e-02,  3.13639998e-01,\n",
              "       -7.11420000e-01,  5.74360013e-01, -3.35880011e-01, -5.22790015e-01,\n",
              "       -3.90749991e-01, -8.96940008e-02,  4.63710010e-01, -3.56099993e-01,\n",
              "        8.45759988e-01, -2.61879992e-02, -1.93279997e-01, -8.38460028e-02,\n",
              "        3.18060011e-01, -1.98119998e-01,  3.00089985e-01,  6.91889971e-02,\n",
              "        5.44700027e-01, -5.91929972e-01,  5.42209983e-01, -6.28759980e-01,\n",
              "       -5.34470022e-01,  4.23339993e-01,  3.08689997e-02,  9.71639991e-01,\n",
              "       -5.62219977e-01,  4.57520001e-02, -5.70999980e-01,  8.01850036e-02,\n",
              "       -8.14339966e-02, -6.02599978e-01,  1.64660007e-01, -4.02810007e-01,\n",
              "       -4.77010012e-01, -5.19500017e-01,  1.27770007e-01, -4.37750012e-01,\n",
              "        2.66020000e-01,  4.87520009e-01, -6.02199994e-02, -5.26220024e-01,\n",
              "        3.76870006e-01, -1.80069998e-01,  3.01660001e-02, -9.45769995e-02,\n",
              "        1.63299993e-01,  5.90409994e-01, -4.88770008e-01, -3.42300010e+00,\n",
              "        1.31129995e-01, -8.03859979e-02,  1.89779997e+00,  1.88569993e-01,\n",
              "       -5.73000014e-01,  8.63579988e-01,  2.11160001e-03,  3.60599995e-01,\n",
              "        8.04750025e-01, -1.39540002e-01, -5.39349988e-02,  3.88729990e-01,\n",
              "        3.06730002e-01, -3.13950002e-01,  8.32379982e-02, -4.17369992e-01,\n",
              "       -1.09979999e+00, -8.80050004e-01,  2.15499997e-01, -2.61319995e-01,\n",
              "       -1.00910001e-01,  7.95840025e-02, -1.23409998e+00, -6.52809978e-01,\n",
              "        6.33629978e-01, -9.84909981e-02,  3.35180014e-01,  2.63319999e-01,\n",
              "       -9.64269996e-01, -1.41500002e-02,  3.08490008e-01, -3.14179987e-01,\n",
              "       -4.07929987e-01, -4.28999990e-01,  8.54509994e-02, -2.00729996e-01,\n",
              "        5.50500005e-02, -4.09220010e-02, -9.40150023e-01,  6.95440024e-02,\n",
              "       -4.53969985e-01, -1.41680002e-01,  9.27890003e-01,  5.90579987e-01])"
            ]
          },
          "execution_count": 28,
          "metadata": {},
          "output_type": "execute_result"
        }
      ],
      "source": [
        "embeddings_matrix[word_index['new']]"
      ]
    },
    {
      "cell_type": "code",
      "execution_count": 29,
      "metadata": {
        "id": "2OvKy7iijMDP"
      },
      "outputs": [],
      "source": [
        "# El modelo usa como pesos la matriz de embeddings anterior\n",
        "\n",
        "vocab_size = len(word_index)\n",
        "\n",
        "tf.keras.backend.clear_session()\n",
        "tf.random.set_seed(51)\n",
        "np.random.seed(51)\n",
        "\n",
        "callback = tf.keras.callbacks.EarlyStopping(\n",
        "    monitor=\"val_accuracy\",\n",
        "    patience=5,\n",
        "    verbose=1,\n",
        "    restore_best_weights=True,\n",
        ")\n",
        "\n",
        "model = tf.keras.Sequential([\n",
        "    tf.keras.layers.Embedding(vocab_size+1, embedding_dim, input_length=max_length, weights=[embeddings_matrix]),\n",
        "    tf.keras.layers.Dropout(0.2),\n",
        "    tf.keras.layers.Bidirectional(tf.keras.layers.LSTM(64, return_sequences=True)),\n",
        "    tf.keras.layers.Dropout(0.2),\n",
        "    tf.keras.layers.Bidirectional(tf.keras.layers.LSTM(32, return_sequences = True)),\n",
        "    tf.keras.layers.GlobalAveragePooling1D(),\n",
        "    tf.keras.layers.Dense(256, activation='relu'),\n",
        "    tf.keras.layers.Dropout(0.2),\n",
        "    tf.keras.layers.Dense(128, activation='relu'),\n",
        "    tf.keras.layers.Dense(1, activation='sigmoid')\n",
        "])\n",
        "\n",
        "optimizer = tf.keras.optimizers.Adam()\n",
        "model.compile(loss='binary_crossentropy',optimizer=optimizer,metrics=['accuracy'])"
      ]
    },
    {
      "cell_type": "code",
      "execution_count": 30,
      "metadata": {
        "colab": {
          "base_uri": "https://localhost:8080/"
        },
        "id": "Aj596drYjL3Z",
        "outputId": "7b1738fa-b709-41ec-c3e7-4d1ae733d0d8"
      },
      "outputs": [
        {
          "name": "stdout",
          "output_type": "stream",
          "text": [
            "Epoch 1/30\n",
            "157/157 [==============================] - 19s 59ms/step - loss: 0.5527 - accuracy: 0.7119 - val_loss: 0.4444 - val_accuracy: 0.7989\n",
            "Epoch 2/30\n",
            "157/157 [==============================] - 8s 48ms/step - loss: 0.3972 - accuracy: 0.8189 - val_loss: 0.3802 - val_accuracy: 0.8275\n",
            "Epoch 3/30\n",
            "157/157 [==============================] - 8s 48ms/step - loss: 0.2981 - accuracy: 0.8730 - val_loss: 0.3763 - val_accuracy: 0.8292\n",
            "Epoch 4/30\n",
            "157/157 [==============================] - 8s 49ms/step - loss: 0.2247 - accuracy: 0.9082 - val_loss: 0.3900 - val_accuracy: 0.8362\n",
            "Epoch 5/30\n",
            "157/157 [==============================] - 8s 48ms/step - loss: 0.1677 - accuracy: 0.9342 - val_loss: 0.3883 - val_accuracy: 0.8383\n",
            "Epoch 6/30\n",
            "157/157 [==============================] - 8s 48ms/step - loss: 0.1293 - accuracy: 0.9495 - val_loss: 0.4771 - val_accuracy: 0.8264\n",
            "Epoch 7/30\n",
            "157/157 [==============================] - 8s 50ms/step - loss: 0.0978 - accuracy: 0.9640 - val_loss: 0.5160 - val_accuracy: 0.8321\n",
            "Epoch 8/30\n",
            "157/157 [==============================] - 8s 48ms/step - loss: 0.0734 - accuracy: 0.9727 - val_loss: 0.6877 - val_accuracy: 0.8329\n",
            "Epoch 9/30\n",
            "157/157 [==============================] - 8s 48ms/step - loss: 0.0646 - accuracy: 0.9758 - val_loss: 0.6846 - val_accuracy: 0.8383\n",
            "Epoch 10/30\n",
            "156/157 [============================>.] - ETA: 0s - loss: 0.0496 - accuracy: 0.9817Restoring model weights from the end of the best epoch: 5.\n",
            "157/157 [==============================] - 8s 53ms/step - loss: 0.0496 - accuracy: 0.9817 - val_loss: 0.7335 - val_accuracy: 0.8372\n",
            "Epoch 00010: early stopping\n"
          ]
        }
      ],
      "source": [
        "history = model.fit(training_padded, training_labels_pad, batch_size = 128, epochs = 30, validation_data=(validation_padded,validation_labels_pad), callbacks = [callback])"
      ]
    },
    {
      "cell_type": "code",
      "execution_count": 31,
      "metadata": {
        "id": "kbKpNMRg5S2N"
      },
      "outputs": [],
      "source": [
        "# Guardar el modelo\n",
        "model.save(\"modelo/sarcasm_GloVe_model.h5\")"
      ]
    },
    {
      "cell_type": "code",
      "execution_count": 32,
      "metadata": {
        "id": "5vb7NBsw5S2R"
      },
      "outputs": [],
      "source": [
        "# Cargar el modelo y evaluar los datos de validacion\n",
        "from tensorflow.keras.models import load_model\n",
        "\n",
        "model = load_model('modelo/sarcasm_GloVe_model.h5')"
      ]
    },
    {
      "cell_type": "code",
      "execution_count": 33,
      "metadata": {
        "colab": {
          "base_uri": "https://localhost:8080/"
        },
        "id": "E5Jl5JuZ5S2S",
        "outputId": "712646d1-e6f7-4f7f-a29f-0cf36ae405f7"
      },
      "outputs": [
        {
          "name": "stdout",
          "output_type": "stream",
          "text": [
            "270/270 [==============================] - 6s 14ms/step - loss: 0.3883 - accuracy: 0.8383\n"
          ]
        },
        {
          "data": {
            "text/plain": [
              "[0.3883388340473175, 0.8382642865180969]"
            ]
          },
          "execution_count": 33,
          "metadata": {},
          "output_type": "execute_result"
        }
      ],
      "source": [
        "model.evaluate(validation_padded,validation_labels_pad)"
      ]
    },
    {
      "cell_type": "code",
      "execution_count": 34,
      "metadata": {
        "id": "UKkTMvzw5S2U"
      },
      "outputs": [],
      "source": [
        "# Prediccion utilizando el mismo conjunto de datos de validacion para trazar la matriz de confusion\n",
        "\n",
        "pred = (model.predict(validation_padded) > 0.5).astype(\"int32\")"
      ]
    },
    {
      "cell_type": "code",
      "execution_count": 35,
      "metadata": {
        "colab": {
          "base_uri": "https://localhost:8080/"
        },
        "id": "a_jUpJQs5S2V",
        "outputId": "dbd24dd1-c55d-4ef3-fa99-04b6b4d7e554"
      },
      "outputs": [
        {
          "data": {
            "text/plain": [
              "(8619, 1)"
            ]
          },
          "execution_count": 35,
          "metadata": {},
          "output_type": "execute_result"
        }
      ],
      "source": [
        "pred.shape"
      ]
    },
    {
      "cell_type": "code",
      "execution_count": 36,
      "metadata": {
        "colab": {
          "base_uri": "https://localhost:8080/"
        },
        "id": "e6kg6xSm5S2W",
        "outputId": "b45d1bfc-2d3e-47fc-bccd-5cf152f7f4b0"
      },
      "outputs": [
        {
          "name": "stdout",
          "output_type": "stream",
          "text": [
            "[[4066  458]\n",
            " [ 936 3159]]\n"
          ]
        }
      ],
      "source": [
        "# Matriz de Confusion\n",
        "from sklearn import metrics\n",
        "\n",
        "cm=metrics.confusion_matrix(validation_labels_pad,pred)\n",
        "print(cm)"
      ]
    },
    {
      "cell_type": "code",
      "execution_count": 37,
      "metadata": {
        "colab": {
          "base_uri": "https://localhost:8080/",
          "height": 447
        },
        "id": "Hs2TwIwx5S2Z",
        "outputId": "722bb2ec-692a-4085-bb5f-6feacb00e829"
      },
      "outputs": [
        {
          "data": {
            "text/plain": [
              "<matplotlib.axes._subplots.AxesSubplot at 0x7f82d00b4f50>"
            ]
          },
          "execution_count": 37,
          "metadata": {},
          "output_type": "execute_result"
        },
        {
          "data": {
            "image/png": "[encoded data removed]",
            "text/plain": [
              "<Figure size 720x504 with 2 Axes>"
            ]
          },
          "metadata": {
            "needs_background": "light"
          },
          "output_type": "display_data"
        }
      ],
      "source": [
        "df_cm = pd.DataFrame(cm, index = [i for i in ['Not_sarcastic','Sarcastic']],\n",
        "                                  columns = [i for i in ['Not_sarcastic','Sarcastic']])\n",
        "plt.figure(figsize = (10,7))\n",
        "sns.heatmap(df_cm, annot=True, fmt = '1g')"
      ]
    },
    {
      "cell_type": "code",
      "execution_count": 38,
      "metadata": {
        "id": "6FoMf2Yo5S2o"
      },
      "outputs": [],
      "source": [
        "# Frases para probar el modelo https://bestlifeonline.com/funniest-newspaper-headlines-of-all-time/\n",
        "\n",
        "new_list = ['Miracle cure kills fifth patient','Cows lose their jobs as milk prices drop', 'Amphibious pitcher makes debut',\n",
        "            'State population to double by 2040, babies to blame']"
      ]
    },
    {
      "cell_type": "code",
      "execution_count": 39,
      "metadata": {
        "colab": {
          "base_uri": "https://localhost:8080/",
          "height": 36
        },
        "id": "jz0bcaoH5S2r",
        "outputId": "aa7e1403-d410-4f20-86cf-bf1893aaf98b"
      },
      "outputs": [
        {
          "data": {
            "application/vnd.google.colaboratory.intrinsic+json": {
              "type": "string"
            },
            "text/plain": [
              "'Miracle cure kills fifth patient'"
            ]
          },
          "execution_count": 39,
          "metadata": {},
          "output_type": "execute_result"
        }
      ],
      "source": [
        "new_list[0]"
      ]
    },
    {
      "cell_type": "code",
      "execution_count": 41,
      "metadata": {
        "id": "PrKIpH8g5S2v"
      },
      "outputs": [],
      "source": [
        "# Preprocesamiento\n",
        "\n",
        "# Eliminar las stopwords de las frases\n",
        "\n",
        "new_headline = []\n",
        "for sent in new_list:\n",
        "    filtered_list = []\n",
        "    for word in sent.split():\n",
        "        if word not in stopwords:\n",
        "            filtered_list.append(word)\n",
        "    join_str = ' '.join([str(ele) for ele in filtered_list])\n",
        "    new_headline.append(join_str)"
      ]
    },
    {
      "cell_type": "code",
      "execution_count": 42,
      "metadata": {
        "colab": {
          "base_uri": "https://localhost:8080/"
        },
        "id": "xn5KsNcW5S2z",
        "outputId": "632639ef-1f2d-4dd1-9b07-44ca87aeea10"
      },
      "outputs": [
        {
          "data": {
            "text/plain": [
              "['Miracle cure kills fifth patient',\n",
              " 'Cows lose jobs milk prices drop',\n",
              " 'Amphibious pitcher makes debut',\n",
              " 'State population double 2040, babies blame']"
            ]
          },
          "execution_count": 42,
          "metadata": {},
          "output_type": "execute_result"
        }
      ],
      "source": [
        "new_headline"
      ]
    },
    {
      "cell_type": "code",
      "execution_count": 43,
      "metadata": {
        "id": "94HQnpmM5S23"
      },
      "outputs": [],
      "source": [
        "# Convertir la frase en datos numericos (tokenizar)\n",
        "\n",
        "pred_sequences = tokenizer.texts_to_sequences(new_headline)\n",
        "pred_padded = pad_sequences(pred_sequences, maxlen = max_length, padding = padding_type, truncating=trunc_type)"
      ]
    },
    {
      "cell_type": "code",
      "execution_count": 44,
      "metadata": {
        "colab": {
          "base_uri": "https://localhost:8080/"
        },
        "id": "0uI0L7-j5S24",
        "outputId": "b7cbadd4-716c-493b-b575-fce1e31fd9f9"
      },
      "outputs": [
        {
          "data": {
            "text/plain": [
              "array([[ 2425,  3893,   704,  1227,  1935,     0,     0,     0,     0,\n",
              "            0,     0,     0,     0,     0,     0,     0,     0,     0,\n",
              "            0,     0,     0,     0,     0,     0,     0,     0,     0,\n",
              "            0,     0,     0,     0,     0],\n",
              "       [ 9138,   706,   927,  2394,  3573,  1356,     0,     0,     0,\n",
              "            0,     0,     0,     0,     0,     0,     0,     0,     0,\n",
              "            0,     0,     0,     0,     0,     0,     0,     0,     0,\n",
              "            0,     0,     0,     0,     0],\n",
              "       [    1, 28699,    92,  3689,     0,     0,     0,     0,     0,\n",
              "            0,     0,     0,     0,     0,     0,     0,     0,     0,\n",
              "            0,     0,     0,     0,     0,     0,     0,     0,     0,\n",
              "            0,     0,     0,     0,     0],\n",
              "       [   58,  1833,  1442, 15745,  2458,  1667,     0,     0,     0,\n",
              "            0,     0,     0,     0,     0,     0,     0,     0,     0,\n",
              "            0,     0,     0,     0,     0,     0,     0,     0,     0,\n",
              "            0,     0,     0,     0,     0]], dtype=int32)"
            ]
          },
          "execution_count": 44,
          "metadata": {},
          "output_type": "execute_result"
        }
      ],
      "source": [
        "pred_padded"
      ]
    },
    {
      "cell_type": "code",
      "execution_count": 45,
      "metadata": {
        "id": "ClxFV-9Z5S25"
      },
      "outputs": [],
      "source": [
        "# Prediccion\n",
        "new_pred = (model.predict(pred_padded) > 0.5).astype(\"int32\")"
      ]
    },
    {
      "cell_type": "code",
      "execution_count": 46,
      "metadata": {
        "colab": {
          "base_uri": "https://localhost:8080/"
        },
        "id": "HW0SDHNM5S25",
        "outputId": "606fa48b-2ba2-434a-cc73-398fab148564"
      },
      "outputs": [
        {
          "data": {
            "text/plain": [
              "array([[1],\n",
              "       [0],\n",
              "       [0],\n",
              "       [0]], dtype=int32)"
            ]
          },
          "execution_count": 46,
          "metadata": {},
          "output_type": "execute_result"
        }
      ],
      "source": [
        "new_pred\n",
        "\n",
        "# if new_pred[0]==1:\n",
        "#     print('Sarcastic')\n",
        "# else:\n",
        "#     print('NOT sarcastic')"
      ]
    },
    {
      "cell_type": "code",
      "execution_count": null,
      "metadata": {
        "id": "_nWlcqhgf8hg"
      },
      "outputs": [],
      "source": []
    }
  ],
  "metadata": {
    "accelerator": "GPU",
    "colab": {
      "collapsed_sections": [],
      "name": "prueba glove esp.ipynb",
      "provenance": []
    },
    "kernelspec": {
      "display_name": "Python 3",
      "name": "python3"
    },
    "language_info": {
      "name": "python"
    },
    "orig_nbformat": 4
  },
  "nbformat": 4,
  "nbformat_minor": 0
}
